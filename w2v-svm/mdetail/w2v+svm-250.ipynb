{
 "cells": [
  {
   "cell_type": "code",
   "execution_count": 1,
   "metadata": {},
   "outputs": [],
   "source": [
    "import multiprocessing\n",
    "import pickle\n",
    "import numpy as np\n",
    "import itertools\n",
    "from multiprocessing import Pool, TimeoutError\n",
    "from functools import partial\n",
    "\n",
    "# External libraries\n",
    "from gensim.corpora.wikicorpus import WikiCorpus\n",
    "from gensim.models.word2vec import LineSentence\n",
    "from gensim.models.word2vec import Word2Vec\n",
    "from sklearn.manifold import TSNE\n",
    "from sklearn.metrics import silhouette_score\n",
    "from sklearn.svm import SVC\n",
    "from sklearn import model_selection, metrics"
   ]
  },
  {
   "cell_type": "markdown",
   "metadata": {},
   "source": [
    "## Create a list of lists of words (sentence)\n",
    "Load training and test sentences.  \n",
    "Create *training_sentences* and *test_sentences*.  \n",
    "For each sentence get the corrispondent predominant class (*training_predominant_classes* and *test_predominant_classes*)."
   ]
  },
  {
   "cell_type": "code",
   "execution_count": 2,
   "metadata": {},
   "outputs": [
    {
     "name": "stdout",
     "output_type": "stream",
     "text": [
      "Length of the training_sentences:  724\n",
      "Length of the test_sentences:  279\n",
      "Example:\n",
      "\n",
      "['Food_Truck', 'General_Entertainment', 'Food_Truck', 'Seafood_Restaurant', 'Food', 'Café']\n"
     ]
    }
   ],
   "source": [
    "with open(\"../../build-sentences/data/mdetail_training_set_250.pkl\", \"rb\") as input_file:\n",
    "    training_tuples = pickle.load(input_file)\n",
    "\n",
    "with open(\"../../build-sentences/data/mdetail_test_set_250.pkl\", \"rb\") as input_file:\n",
    "    test_tuples = pickle.load(input_file)\n",
    "    \n",
    "training_predominant_classes = [x[-1] for x in training_tuples]\n",
    "test_predominant_classes = [x[-1] for x in test_tuples]\n",
    "\n",
    "training_sentences = [x[0] for x in training_tuples]\n",
    "test_sentences = [x[0] for x in test_tuples]\n",
    "\n",
    "training_sentences_splitted = [x.split(' ') for x in training_sentences]\n",
    "test_sentences_splitted = [x.split(' ') for x in test_sentences]    \n",
    "\n",
    "print(\"Length of the training_sentences: \", len(training_sentences_splitted))\n",
    "print(\"Length of the test_sentences: \", len(test_sentences_splitted))\n",
    "\n",
    "print(\"Example:\\n\")\n",
    "print(training_sentences_splitted[5])"
   ]
  },
  {
   "cell_type": "markdown",
   "metadata": {},
   "source": [
    "# Setup of the Word2Vec model"
   ]
  },
  {
   "cell_type": "markdown",
   "metadata": {},
   "source": [
    "## W2V: tuning of the parameters\n",
    "Question: which is the best word2vec configuration? how to choose the hyper-parameters?  \n",
    "We decided to use the configuration (set of parameters) which maximize the f1-score of a 5-fold cross validation over the training set."
   ]
  },
  {
   "cell_type": "markdown",
   "metadata": {},
   "source": [
    "#### Helper functions"
   ]
  },
  {
   "cell_type": "code",
   "execution_count": 3,
   "metadata": {},
   "outputs": [],
   "source": [
    "def create_w2v_mapper(sentences, size=50, window=10, sample=1E-3):\n",
    "    params = {'sg' : 1, 'size': size, 'window': window, 'min_count': 1, \n",
    "          'workers': max(1, multiprocessing.cpu_count() - 1), 'sample': 1E-3,}\n",
    "\n",
    "    model = Word2Vec(sentences_splitted, **params)\n",
    "    word_vectors = model.wv\n",
    "    return dict(zip(model.wv.index2word, model.wv.syn0)), model\n",
    "\n",
    "def convert_class_string_to_id(predominant_classes):\n",
    "    mapper = {'Other': 0, 'OpenSpace': 1, 'Residential': 2,\n",
    "                    'Commercial': 3, 'Transportation': 4, 'Mixed': 5}\n",
    "    \n",
    "    return [mapper[x] for x in predominant_classes]\n",
    "\n",
    "def preprocess_w2v_cells(mapper, sentences_splitted):\n",
    "    # this are the Xs of the SVM's input\n",
    "    svm_input_vectors = []\n",
    "    \n",
    "    for sentence in sentences_splitted:\n",
    "\n",
    "        # for each word inside the sentence contained in cell\n",
    "        # map the word into the corresponding w2v vector\n",
    "        # array where each element is the corresponding vector of a word\n",
    "        cell_w2v_vectors = np.array([mapper[x] for x in sentence])\n",
    "\n",
    "        # do the column-wise mean of this vectors\n",
    "        # to abtain a single vector for the sentence (cell)\n",
    "        mean_cell_vector = np.mean(cell_w2v_vectors, axis=0)\n",
    "\n",
    "        # append the vector representing the entire cell\n",
    "        # to the svm_input list\n",
    "        svm_input_vectors.append(mean_cell_vector)\n",
    "        \n",
    "    return svm_input_vectors\n",
    "\n",
    "def divide_sets_by_index(dataset, training_index, test_index):\n",
    "    training_set = []\n",
    "    test_set = []\n",
    "    \n",
    "    for i in range(len(dataset)):\n",
    "        if i in training_index:\n",
    "            training_set.append(dataset[i])\n",
    "        else:\n",
    "            test_set.append(dataset[i])\n",
    "    \n",
    "    return training_set, test_set\n",
    "\n",
    "def get_best_combination(combination_and_scores):\n",
    "    scores = [x[1] for x in combination_and_scores]\n",
    "    best_index = np.argmax(scores)\n",
    "    return combination_and_scores[best_index][0]\n",
    "\n",
    "def inner_w2v_cross_process(combination_parameters, training_sentences, training_classes):\n",
    "    window_size, features_size, sample = combination_parameters\n",
    "    \n",
    "    # Create w2v model and mapper\n",
    "    cmapper, _ = create_w2v_mapper(training_sentences, window=window_size, size=features_size, sample=sample)\n",
    "    \n",
    "    # Mapper each sentence to a unique vector\n",
    "    X_train = preprocess_w2v_cells(cmapper, training_sentences)\n",
    "    y_train = training_classes\n",
    "\n",
    "    innerf1 = []\n",
    "    skf = model_selection.StratifiedKFold(n_splits=5, random_state=1234, shuffle=True)\n",
    "    for train_indexes, test_indexes in skf.split(X_train, y_train):\n",
    "        \n",
    "        X2_train, X2_test = divide_sets_by_index(X_train, train_indexes, test_indexes)\n",
    "        y2_train, y2_test = divide_sets_by_index(y_train, train_indexes, test_indexes)\n",
    "\n",
    "        sclf = SVC()\n",
    "        sclf.fit(X2_train, y2_train)\n",
    "        ipred = sclf.predict(X2_test)\n",
    "        \n",
    "        innerf1.append(metrics.f1_score(ipred, y2_test, average=\"macro\"))\n",
    "                         \n",
    "    return combination_parameters, np.mean(innerf1) "
   ]
  },
  {
   "cell_type": "code",
   "execution_count": 4,
   "metadata": {},
   "outputs": [
    {
     "name": "stderr",
     "output_type": "stream",
     "text": [
      "/usr/local/lib/python3.5/dist-packages/sklearn/metrics/classification.py:1137: UndefinedMetricWarning: F-score is ill-defined and being set to 0.0 in labels with no true samples.\n",
      "  'recall', 'true', average, warn_for)\n",
      "/usr/local/lib/python3.5/dist-packages/sklearn/metrics/classification.py:1137: UndefinedMetricWarning: F-score is ill-defined and being set to 0.0 in labels with no true samples.\n",
      "  'recall', 'true', average, warn_for)\n",
      "/usr/local/lib/python3.5/dist-packages/sklearn/metrics/classification.py:1137: UndefinedMetricWarning: F-score is ill-defined and being set to 0.0 in labels with no true samples.\n",
      "  'recall', 'true', average, warn_for)\n",
      "/usr/local/lib/python3.5/dist-packages/sklearn/metrics/classification.py:1137: UndefinedMetricWarning: F-score is ill-defined and being set to 0.0 in labels with no true samples.\n",
      "  'recall', 'true', average, warn_for)\n"
     ]
    },
    {
     "name": "stdout",
     "output_type": "stream",
     "text": [
      "best_w2v_parameters (7, 30, 0)\n"
     ]
    }
   ],
   "source": [
    "# Values of Windows Size (W2V)\n",
    "WindowSize = [3, 5, 7, 10, 20]\n",
    "\n",
    "# Size of the Features Vector (W2V)\n",
    "FeaturesSize = [30, 50, 100, 200]\n",
    "\n",
    "# The threshold for configuring which higher-frequency words are randomly downsampled, useful range is (0, 1e-5)\n",
    "Samples = [1E-5, 1E-4, 1E-3, 1E-2, 1E-1, 0]\n",
    "\n",
    "# Get all possibile combination of WindowSize, FeaturesSize, Samples\n",
    "combination_parameters = list(itertools.product(WindowSize, FeaturesSize, Samples))\n",
    "\n",
    "# use both training and test sentences to train the word2vec model\n",
    "sentences_splitted = training_sentences_splitted + test_sentences_splitted\n",
    "\n",
    "# run in parallel cross validation\n",
    "with Pool(processes=4) as pool:\n",
    "    combination_and_scores = pool.map(partial(inner_w2v_cross_process,\n",
    "                                              training_sentences=training_sentences_splitted,\n",
    "                                              training_classes=training_predominant_classes),\n",
    "                                      combination_parameters)\n",
    "    \n",
    "best_w2v_parameters = get_best_combination(combination_and_scores)\n",
    "best_window, best_features_size, best_sample = best_w2v_parameters\n",
    "print(\"best_w2v_parameters\", best_w2v_parameters)\n",
    "\n",
    "w2v_mapper, model = create_w2v_mapper(sentences_splitted,\n",
    "                                      size=best_features_size,\n",
    "                                      window=best_window,\n",
    "                                      sample=best_sample\n",
    "                                     )"
   ]
  },
  {
   "cell_type": "markdown",
   "metadata": {},
   "source": [
    "## POI-level validation\n",
    "We should check if the w2v model is correct (plausible). So we get the similar words of a single category and we expect to find correlated categories. For example, we get that food is strictly correlated to Shop_and_Service and Nightlife_Spot. Probably, in the proximity of a \"Food\" POI is likely to find a Shop_and_Service POI (lets think about the shopping center) or Nightlife_Spot (Pub or other nightlife activities)."
   ]
  },
  {
   "cell_type": "code",
   "execution_count": 5,
   "metadata": {
    "scrolled": true
   },
   "outputs": [
    {
     "data": {
      "text/plain": [
       "[('College_Lab', 0.9421777725219727),\n",
       " ('College_Engineering_Building', 0.9253144264221191),\n",
       " ('College_Administrative_Building', 0.9211804270744324),\n",
       " ('College_Science_Building', 0.9178767204284668),\n",
       " ('College_Cafeteria', 0.9160634279251099),\n",
       " ('College_Auditorium', 0.9118334650993347),\n",
       " ('College_Quad', 0.910089373588562),\n",
       " ('Community_College', 0.9097933173179626),\n",
       " ('College_Math_Building', 0.9048459529876709),\n",
       " ('College_Academic_Building', 0.9029916524887085)]"
      ]
     },
     "execution_count": 5,
     "metadata": {},
     "output_type": "execute_result"
    }
   ],
   "source": [
    "model.wv.most_similar('University')"
   ]
  },
  {
   "cell_type": "markdown",
   "metadata": {},
   "source": [
    "# Mapping and Validation"
   ]
  },
  {
   "cell_type": "markdown",
   "metadata": {},
   "source": [
    "## Pre-process input and use mapper\n",
    "Each word in in each sentence (list of words, information inside a cell) is mapped in the corrispondent word2vec vector.  \n",
    "Then the vectors are averaged to create a single vector which represents the entire cell in the word2vec space.\n",
    "The results of this process are:\n",
    "- *training_Xs* (features vectors, one vector for each cell in the training set)\n",
    "- *test_Xs* (features vectors, one vector for each cell in the test set)\n",
    "- *training_predominant_classes* (classes y of the elements in the training set)\n",
    "- *test_predominant_classes* (classes y of the elements in the test set)"
   ]
  },
  {
   "cell_type": "code",
   "execution_count": 6,
   "metadata": {},
   "outputs": [
    {
     "name": "stdout",
     "output_type": "stream",
     "text": [
      "[Info training-set]\n",
      "number of cells for training_svm 724\n",
      "number of features for each word 30\n",
      "\n",
      "[Info test-set]\n",
      "number of cells for training_svm 279\n",
      "number of features for each word 30\n"
     ]
    }
   ],
   "source": [
    "training_predominant_classes = convert_class_string_to_id(training_predominant_classes)\n",
    "test_predominant_classes = convert_class_string_to_id(test_predominant_classes)\n",
    "\n",
    "training_Xs = preprocess_w2v_cells(w2v_mapper, training_sentences_splitted)\n",
    "test_Xs = preprocess_w2v_cells(w2v_mapper, test_sentences_splitted)\n",
    "\n",
    "print(\"[Info training-set]\")\n",
    "print(\"number of cells for training_svm\", len(training_Xs))\n",
    "print(\"number of features for each word\", len(training_Xs[0]))\n",
    "\n",
    "print(\"\")\n",
    "print(\"[Info test-set]\")\n",
    "print(\"number of cells for training_svm\", len(test_Xs))\n",
    "print(\"number of features for each word\", len(test_Xs[0]))"
   ]
  },
  {
   "cell_type": "markdown",
   "metadata": {},
   "source": [
    "## Cell-level validation\n",
    "### Why\n",
    "For each cell we obtained a single features vector through the mean of all pois-w2v-vectors.\n",
    "We expect that, although averaging pois vectors could degrade the overall expressiveness, we are still able to link different cell's vectors that share the same land of use.\n",
    " \n",
    "### How\n",
    "To validate our hypothesis we use Kmeans clustering algorithm using the cosine distance. \n",
    "We conduct the analysis for both training and test set: first we run the Kmeans algorithm using the training features vectors, then we use the same centroid as initial centroid for a second Kmeans run using the test vectors vectors.\n",
    "\n",
    "### Evaluation\n",
    "First we reduce the size of the cells vectors (using t-snr) to have an idea of the possible cell clusters (each color represent a different class).\n",
    "Secondly, we use the *Counter* module to check the destination cluster of each of the cell vectors of each of the predominant class. Moreover, we also compute the *silhouette value*, which is a measure of how similar an object is to its own cluster (cohesion) compared to other clusters (separation)*.\n",
    "\n",
    "### Notes\n",
    "Implementations: http://ai.intelligentonlinetools.com/ml/k-means-clustering-example-word2vec/"
   ]
  },
  {
   "cell_type": "code",
   "execution_count": 7,
   "metadata": {},
   "outputs": [
    {
     "name": "stdout",
     "output_type": "stream",
     "text": [
      "TRAINING set clusters\n",
      "========================\n",
      "- OTHER\n",
      "Counter({2: 30, 3: 27, 5: 18, 4: 13, 0: 3, 1: 3})\n",
      "- OPENSPACE\n",
      "Counter({1: 56, 2: 41, 3: 36, 5: 9, 4: 7, 0: 6})\n",
      "- RESIDENTIAL\n",
      "Counter({4: 135, 3: 104, 5: 15, 2: 7, 1: 4, 0: 2})\n",
      "- COMMERCIAL\n",
      "Counter({5: 66, 4: 4, 2: 2, 3: 1})\n",
      "- TRANSPORTATION\n",
      "Counter({1: 17, 2: 12, 3: 8, 4: 6, 5: 6, 0: 1})\n",
      "- MIXED\n",
      "Counter({4: 41, 3: 27, 5: 14, 2: 3})\n",
      "\n",
      "Silhoette score 0.28186765\n",
      "\n",
      "\n",
      "TEST set clusters\n",
      "========================\n",
      "- OTHER\n",
      "Counter({2: 16, 4: 9, 3: 8, 5: 6, 0: 1, 1: 1})\n",
      "- OPENSPACE\n",
      "Counter({1: 19, 2: 16, 3: 15, 4: 3, 0: 2, 5: 2})\n",
      "- RESIDENTIAL\n",
      "Counter({4: 54, 3: 19, 5: 6, 1: 3, 2: 1})\n",
      "- COMMERCIAL\n",
      "Counter({5: 44, 2: 2})\n",
      "- TRANSPORTATION\n",
      "Counter({3: 6, 5: 6, 1: 3, 2: 3})\n",
      "- MIXED\n",
      "Counter({4: 20, 3: 9, 5: 4, 2: 1})\n",
      "\n",
      "Silhoette score 0.30299196\n"
     ]
    }
   ],
   "source": [
    "import nltk\n",
    "from nltk.cluster import KMeansClusterer\n",
    "from collections import Counter\n",
    "\n",
    "# First find cluster centroids using the training set\n",
    "train_kclusterer = KMeansClusterer(6, distance=nltk.cluster.util.cosine_distance)\n",
    "training_labels = train_kclusterer.cluster(training_Xs, assign_clusters=True)\n",
    "\n",
    "all_other_indexes = [i for i, y in enumerate(training_predominant_classes) if y == 0]\n",
    "all_class_of_other_cells = [ training_labels[x] for x in all_other_indexes]\n",
    "\n",
    "all_openspace_indexes = [i for i, y in enumerate(training_predominant_classes) if y == 1]\n",
    "all_class_of_openSpace_cells = [ training_labels[x] for x in all_openspace_indexes]\n",
    "\n",
    "all_residential_indexes = [i for i, y in enumerate(training_predominant_classes) if y == 2]\n",
    "all_class_of_residential_cells = [ training_labels[x] for x in all_residential_indexes]\n",
    "\n",
    "all_commercial_indexes = [i for i, y in enumerate(training_predominant_classes) if y == 3]\n",
    "all_class_of_commercial_cells = [ training_labels[x] for x in all_commercial_indexes]\n",
    "\n",
    "all_transportation_indexes = [i for i, y in enumerate(training_predominant_classes) if y == 4]\n",
    "all_class_of_transportation_cells = [ training_labels[x] for x in all_transportation_indexes]\n",
    "\n",
    "all_mixed_indexes = [i for i, y in enumerate(training_predominant_classes) if y == 5]\n",
    "all_class_of_mixed_cells = [ training_labels[x] for x in all_mixed_indexes]\n",
    "\n",
    "print(\"TRAINING set clusters\")\n",
    "print(\"========================\")\n",
    "print(\"- OTHER\")\n",
    "print(Counter(all_class_of_other_cells))\n",
    "\n",
    "print(\"- OPENSPACE\")\n",
    "print(Counter(all_class_of_openSpace_cells))\n",
    "\n",
    "print(\"- RESIDENTIAL\")\n",
    "print(Counter(all_class_of_residential_cells))\n",
    "\n",
    "print(\"- COMMERCIAL\")\n",
    "print(Counter(all_class_of_commercial_cells))\n",
    "\n",
    "print(\"- TRANSPORTATION\")\n",
    "print(Counter(all_class_of_transportation_cells))\n",
    "\n",
    "print(\"- MIXED\")\n",
    "print(Counter(all_class_of_mixed_cells))\n",
    "\n",
    "# Compute the silhouette_score\n",
    "silhoette_score_training = silhouette_score(training_Xs, training_labels, metric='cosine')\n",
    "print(\"\\nSilhoette score\", silhoette_score_training)\n",
    "\n",
    "# Then validate the computed centroids using the test set\n",
    "test_kclusterer = KMeansClusterer(6, distance=nltk.cluster.util.cosine_distance, initial_means=train_kclusterer.means())\n",
    "test_labels = test_kclusterer.cluster(test_Xs, assign_clusters=True)\n",
    "\n",
    "all_other_indexes = [i for i, y in enumerate(test_predominant_classes) if y == 0]\n",
    "all_class_of_other_cells = [ test_labels[x] for x in all_other_indexes]\n",
    "\n",
    "all_openspace_indexes = [i for i, y in enumerate(test_predominant_classes) if y == 1]\n",
    "all_class_of_openSpace_cells = [ test_labels[x] for x in all_openspace_indexes]\n",
    "\n",
    "all_residential_indexes = [i for i, y in enumerate(test_predominant_classes) if y == 2]\n",
    "all_class_of_residential_cells = [ test_labels[x] for x in all_residential_indexes]\n",
    "\n",
    "all_commercial_indexes = [i for i, y in enumerate(test_predominant_classes) if y == 3]\n",
    "all_class_of_commercial_cells = [ test_labels[x] for x in all_commercial_indexes]\n",
    "\n",
    "all_transportation_indexes = [i for i, y in enumerate(test_predominant_classes) if y == 4]\n",
    "all_class_of_transportation_cells = [ test_labels[x] for x in all_transportation_indexes]\n",
    "\n",
    "all_mixed_indexes = [i for i, y in enumerate(test_predominant_classes) if y == 5]\n",
    "all_class_of_mixed_cells = [ test_labels[x] for x in all_mixed_indexes]\n",
    "\n",
    "print(\"\\n\\nTEST set clusters\")\n",
    "print(\"========================\")\n",
    "print(\"- OTHER\")\n",
    "print(Counter(all_class_of_other_cells))\n",
    "\n",
    "print(\"- OPENSPACE\")\n",
    "print(Counter(all_class_of_openSpace_cells))\n",
    "\n",
    "print(\"- RESIDENTIAL\")\n",
    "print(Counter(all_class_of_residential_cells))\n",
    "\n",
    "print(\"- COMMERCIAL\")\n",
    "print(Counter(all_class_of_commercial_cells))\n",
    "\n",
    "print(\"- TRANSPORTATION\")\n",
    "print(Counter(all_class_of_transportation_cells))\n",
    "\n",
    "print(\"- MIXED\")\n",
    "print(Counter(all_class_of_mixed_cells))\n",
    "\n",
    "# Compute the silhouette_score\n",
    "silhoette_score_test = silhouette_score(test_Xs, test_labels, metric='cosine')\n",
    "print(\"\\nSilhoette score\", silhoette_score_test)"
   ]
  },
  {
   "cell_type": "code",
   "execution_count": 8,
   "metadata": {},
   "outputs": [
    {
     "data": {
      "image/png": "[encoded data removed]",
      "text/plain": [
       "<Figure size 432x288 with 2 Axes>"
      ]
     },
     "metadata": {},
     "output_type": "display_data"
    },
    {
     "data": {
      "image/png": "[encoded data removed]",
      "text/plain": [
       "<Figure size 432x288 with 2 Axes>"
      ]
     },
     "metadata": {},
     "output_type": "display_data"
    }
   ],
   "source": [
    "from matplotlib import pyplot as plt\n",
    "from mpl_toolkits.mplot3d import Axes3D\n",
    "%matplotlib inline\n",
    "\n",
    "\n",
    "X_embedded = TSNE(n_components=3).fit_transform(training_Xs)\n",
    "\n",
    "vis_x = X_embedded[:, 0]\n",
    "vis_y = X_embedded[:, 1]\n",
    "vis_z = X_embedded[:, 2]\n",
    "\n",
    "sm = plt.cm.ScalarMappable(cmap=plt.cm.get_cmap(\"jet\", 6))\n",
    "sm.set_array([])\n",
    "\n",
    "fig = plt.figure()\n",
    "ax = fig.add_subplot(111, projection='3d')\n",
    "ax.scatter(vis_x, vis_y, vis_z, c=training_predominant_classes, cmap=plt.cm.get_cmap(\"jet\", 6))\n",
    "fig.colorbar(sm, ticks=range(6))\n",
    "\n",
    "fig2 =plt.figure()\n",
    "bx = fig2.add_subplot(111)\n",
    "bx.scatter(vis_x, vis_y, c=training_predominant_classes, cmap=plt.cm.get_cmap(\"jet\", 6))\n",
    "fig2.colorbar(sm, ticks=range(6))\n",
    "\n",
    "plt.show()"
   ]
  },
  {
   "cell_type": "markdown",
   "metadata": {},
   "source": [
    "# SVM"
   ]
  },
  {
   "cell_type": "markdown",
   "metadata": {},
   "source": [
    "### Tuning of the hyper-parameters\n",
    "We use the best configuration of the word2vec model to determine also the hyper-parameters of the SVM classifier.  \n",
    "Also in this case, for each of the parameters combination we run a 5-fold cross validation on the training set.  \n",
    "At the end, we use set of parameters which maximizes the f1-score."
   ]
  },
  {
   "cell_type": "code",
   "execution_count": 9,
   "metadata": {},
   "outputs": [],
   "source": [
    "def inner_svm_cross_process(combination_parameters, X_train, y_train):\n",
    "    c_value, gamma_value, kernel_value = combination_parameters\n",
    "\n",
    "    innerf1 = []\n",
    "    skf = model_selection.StratifiedKFold(n_splits=5, random_state=1234, shuffle=True)\n",
    "    for train_indexes, test_indexes in skf.split(X_train, y_train):\n",
    "        \n",
    "        X2_train, X2_test = divide_sets_by_index(X_train, train_indexes, test_indexes)\n",
    "        y2_train, y2_test = divide_sets_by_index(y_train, train_indexes, test_indexes)\n",
    "\n",
    "        sclf = SVC(kernel=kernel_value, C=c_value, gamma=gamma_value)\n",
    "        sclf.fit(X2_train, y2_train)\n",
    "        ipred = sclf.predict(X2_test)\n",
    "        \n",
    "        innerf1.append(metrics.f1_score(ipred, y2_test, average=\"macro\"))\n",
    "                         \n",
    "    return combination_parameters, np.mean(innerf1) "
   ]
  },
  {
   "cell_type": "code",
   "execution_count": 10,
   "metadata": {},
   "outputs": [
    {
     "name": "stderr",
     "output_type": "stream",
     "text": [
      "/usr/local/lib/python3.5/dist-packages/sklearn/metrics/classification.py:1137: UndefinedMetricWarning: F-score is ill-defined and being set to 0.0 in labels with no true samples.\n",
      "  'recall', 'true', average, warn_for)\n",
      "/usr/local/lib/python3.5/dist-packages/sklearn/metrics/classification.py:1137: UndefinedMetricWarning: F-score is ill-defined and being set to 0.0 in labels with no true samples.\n",
      "  'recall', 'true', average, warn_for)\n",
      "/usr/local/lib/python3.5/dist-packages/sklearn/metrics/classification.py:1137: UndefinedMetricWarning: F-score is ill-defined and being set to 0.0 in labels with no true samples.\n",
      "  'recall', 'true', average, warn_for)\n",
      "/usr/local/lib/python3.5/dist-packages/sklearn/metrics/classification.py:1137: UndefinedMetricWarning: F-score is ill-defined and being set to 0.0 in labels with no true samples.\n",
      "  'recall', 'true', average, warn_for)\n"
     ]
    },
    {
     "name": "stdout",
     "output_type": "stream",
     "text": [
      "best_svm_parameters (10.0, 1.0, 'rbf')\n"
     ]
    }
   ],
   "source": [
    "# Values of C which I have to test\n",
    "Cvalues = [1e-02, 1e-01, 1e00, 1e01, 1e02]\n",
    "\n",
    "# Values of Gamma which I have to test\n",
    "Gammavalues = [1e-02, 1e-01, 1e00, 1e01, 1e02]\n",
    "\n",
    "# Kernels\n",
    "Kernels = ['rbf', 'poly']\n",
    "\n",
    "# Get all possibile combination of WindowSize, FeaturesSize, Samples\n",
    "combination_parameters = list(itertools.product(Cvalues, Gammavalues, Kernels))\n",
    "\n",
    "X_train = preprocess_w2v_cells(w2v_mapper, training_sentences_splitted)\n",
    "y_train = training_predominant_classes\n",
    "\n",
    "# run in parallel cross validation\n",
    "with Pool(processes=4) as pool:\n",
    "    combination_and_scores = pool.map(partial(inner_svm_cross_process,\n",
    "                                              X_train=X_train,\n",
    "                                              y_train=y_train),\n",
    "                                      combination_parameters)\n",
    "    \n",
    "best_svm_parameters = get_best_combination(combination_and_scores)\n",
    "print(\"best_svm_parameters\", best_svm_parameters)"
   ]
  },
  {
   "cell_type": "markdown",
   "metadata": {},
   "source": [
    "## Train SVM with the final set of parameters"
   ]
  },
  {
   "cell_type": "code",
   "execution_count": 11,
   "metadata": {},
   "outputs": [],
   "source": [
    "best_c, best_gamma, best_kernel = best_svm_parameters\n",
    "clf = SVC(C=best_c, kernel=best_kernel, gamma=best_gamma)\n",
    "model = clf.fit(X_train, y_train)"
   ]
  },
  {
   "cell_type": "markdown",
   "metadata": {},
   "source": [
    "## Test the model"
   ]
  },
  {
   "cell_type": "code",
   "execution_count": 12,
   "metadata": {},
   "outputs": [
    {
     "name": "stdout",
     "output_type": "stream",
     "text": [
      "accuracy 0.6523297491039427\n",
      "f1 0.5249221415051503\n",
      "precision 0.6373397435897435\n",
      "recall 0.5276560052102836\n"
     ]
    }
   ],
   "source": [
    "from sklearn.metrics import accuracy_score, precision_score, recall_score, f1_score\n",
    "\n",
    "test_Xs = preprocess_w2v_cells(w2v_mapper, test_sentences_splitted)\n",
    "results = model.predict(test_Xs)\n",
    "\n",
    "acc = accuracy_score(test_predominant_classes, results)\n",
    "precision = precision_score(test_predominant_classes, results, average=\"macro\")\n",
    "recall = recall_score(test_predominant_classes, results, average=\"macro\")\n",
    "f1_score = f1_score(test_predominant_classes, results, average=\"macro\")\n",
    "\n",
    "print(\"accuracy\", acc)\n",
    "print(\"f1\", f1_score)\n",
    "print(\"precision\", precision)\n",
    "print(\"recall\", recall)"
   ]
  }
 ],
 "metadata": {
  "kernelspec": {
   "display_name": "Python 3",
   "language": "python",
   "name": "python3"
  },
  "language_info": {
   "codemirror_mode": {
    "name": "ipython",
    "version": 3
   },
   "file_extension": ".py",
   "mimetype": "text/x-python",
   "name": "python",
   "nbconvert_exporter": "python",
   "pygments_lexer": "ipython3",
   "version": "3.5.2"
  }
 },
 "nbformat": 4,
 "nbformat_minor": 2
}
