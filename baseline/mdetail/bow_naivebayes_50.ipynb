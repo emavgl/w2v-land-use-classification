{
 "cells": [
  {
   "cell_type": "code",
   "execution_count": 1,
   "metadata": {},
   "outputs": [],
   "source": [
    "# import std libraries\n",
    "import os, sys\n",
    "import csv\n",
    "import numpy as np"
   ]
  },
  {
   "cell_type": "markdown",
   "metadata": {},
   "source": [
    "# Create model from training file"
   ]
  },
  {
   "cell_type": "code",
   "execution_count": 2,
   "metadata": {},
   "outputs": [],
   "source": [
    "def read_from_csv(file_path):\n",
    "    \"\"\"\n",
    "    returns:\n",
    "        - label \"cell_id\" + list of feature labels\n",
    "        - cell_id + vector of features + class\n",
    "    \"\"\"\n",
    "    cell_id_and_features_labels = []\n",
    "    cell_counts = []\n",
    "    with open(file_path) as csvfile:\n",
    "        # read the file into rows\n",
    "        rows = csv.reader(csvfile, delimiter='\\t')\n",
    "\n",
    "        # get labels\n",
    "        count = 0\n",
    "        for row in rows:\n",
    "            if count == 0:\n",
    "                cell_id_and_features_labels = row\n",
    "            else:\n",
    "                cell_counts.append(row)\n",
    "            count += 1\n",
    "\n",
    "    return cell_id_and_features_labels[:-1], cell_counts\n",
    "\n",
    "def extract_features_and_classes(file_path):\n",
    "    \"\"\"\n",
    "    Read the CSV at file_path\n",
    "    and returns X and y\n",
    "    \"\"\"\n",
    "    # contains the \"cell_id\" label + all the other feature labels\n",
    "    cell_id_and_features_labels = []\n",
    "\n",
    "    # contains the row\n",
    "    # each row represents the features vector of a cell\n",
    "    # x[i] where x is the features vector is the count of how many POIs\n",
    "    # there are in that cell\n",
    "    cell_counts = []\n",
    "\n",
    "    cell_id_and_features_labels, cell_counts = read_from_csv(file_path)\n",
    "\n",
    "    training_classes = [x[-1] for x in cell_counts]\n",
    "    training_classes_without_duplicates = list(set(training_classes))\n",
    "    \n",
    "# DEBUG:    print(\"number of features\", len(cell_id_and_features_labels) - 1)\n",
    "# DEBUG:   print(\"number of classes\", len(training_classes_without_duplicates))   \n",
    "    \n",
    "    # from each row\n",
    "    xs = [x[1:-1] for x in cell_counts] # remove cell_id and y\n",
    "\n",
    "    # note, first element of xs corresponds to first in ys and so on\n",
    "    # this because with list comprehension, order is preserved\n",
    "\n",
    "    # note that, we need that all elements in xs are integers\n",
    "    # and, because we read it from CSV actually are strings\n",
    "    # to convert them\n",
    "    xs = [list(map(int, x)) for x in xs]\n",
    "\n",
    "    # convert xs and ys to numpy arrays    \n",
    "    X = np.array(xs)\n",
    "    y = training_classes\n",
    "    \n",
    "    return X, y"
   ]
  },
  {
   "cell_type": "code",
   "execution_count": 3,
   "metadata": {},
   "outputs": [],
   "source": [
    "# define the training file\n",
    "training_file_path = '../../../data/w2v_urban/mdetail/baseline/training50.csv'\n",
    "X_train, y_train = extract_features_and_classes(training_file_path)\n",
    "\n",
    "test_file_path = '../../../data/w2v_urban/mdetail/baseline/test50.csv'\n",
    "X_test, y_test = extract_features_and_classes(test_file_path)"
   ]
  },
  {
   "cell_type": "markdown",
   "metadata": {},
   "source": [
    "# Create a Naive Bayes model using the MultinomialNB\n",
    "Note. We are using the naive assumption that the features are indipendent each other.\n",
    "It is not so correct in this case; because the presence of Shop can be explained given an high number\n",
    "of residential places."
   ]
  },
  {
   "cell_type": "code",
   "execution_count": 4,
   "metadata": {},
   "outputs": [],
   "source": [
    "from sklearn.naive_bayes import MultinomialNB\n",
    "clf = MultinomialNB()\n",
    "model = clf.fit(X_train, y_train)"
   ]
  },
  {
   "cell_type": "code",
   "execution_count": 5,
   "metadata": {},
   "outputs": [
    {
     "name": "stdout",
     "output_type": "stream",
     "text": [
      "accuracy 0.492095301715\n",
      "f1 0.449333102135\n"
     ]
    }
   ],
   "source": [
    "from sklearn.metrics import accuracy_score, f1_score\n",
    "results = model.predict(X_test)\n",
    "acc = accuracy_score(y_test, results)\n",
    "f1 = f1_score(y_test, results, average=\"macro\")\n",
    "print(\"accuracy\", acc)\n",
    "print(\"f1\", f1)"
   ]
  }
 ],
 "metadata": {
  "kernelspec": {
   "display_name": "Python 3",
   "language": "python",
   "name": "python3"
  },
  "language_info": {
   "codemirror_mode": {
    "name": "ipython",
    "version": 3
   },
   "file_extension": ".py",
   "mimetype": "text/x-python",
   "name": "python",
   "nbconvert_exporter": "python",
   "pygments_lexer": "ipython3",
   "version": "3.5.2"
  }
 },
 "nbformat": 4,
 "nbformat_minor": 2
}
